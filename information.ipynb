{
 "cells": [
  {
   "cell_type": "code",
   "execution_count": null,
   "id": "initial_id",
   "metadata": {
    "collapsed": true
   },
   "outputs": [],
   "source": ""
  },
  {
   "metadata": {},
   "cell_type": "markdown",
   "source": [
    "\n",
    "# 假设train_data包含所有特征和产量（yield）列\n",
    "# 1. 提取特征和目标变量（产量）\n",
    "# 注意：仅用训练数据计算相关性，避免测试数据泄露\n",
    "features = all_features[:n_train]  # 训练集特征（与之前n_train定义一致）\n",
    "yield_values = train_data['yield']  # 产量列（目标变量）\n",
    "\n",
    "# 2. 合并特征和产量，计算皮尔逊相关系数\n",
    "# 新增产量列到特征数据中，用于计算相关性\n",
    "corr_data = pd.concat([features, yield_values], axis=1)\n",
    "\n",
    "# 计算所有特征与产量的皮尔逊相关系数\n",
    "corr_with_yield = corr_data.corr()['yield'].drop('yield')  # 排除产量与自身的相关系数\n",
    "\n",
    "# 3. 打印所有特征的相关系数（按绝对值排序）\n",
    "print(\"特征与产量的皮尔逊相关系数（按绝对值排序）：\")\n",
    "sorted_corr = corr_with_yield.abs().sort_values(ascending=False)\n",
    "print(sorted_corr)\n",
    "\n",
    "# 4. 筛选|r|>0.2的特征\n",
    "selected_features = corr_with_yield[abs(corr_with_yield) > 0.2].index.tolist()\n",
    "\n",
    "# 5. 结合领域知识调整（例如强制保留ndvi，即使其相关系数略低于0.2）\n",
    "domain_features = ['ndvi']  # 根据农业知识确定的关键特征\n",
    "for feat in domain_features:\n",
    "    if feat not in selected_features:\n",
    "        selected_features.append(feat)\n",
    "        print(f\"根据领域知识，强制保留特征：{feat}\")\n",
    "\n",
    "# 6. 更新特征集（训练集和测试集均只保留筛选后的特征）\n",
    "all_features_selected = all_features[selected_features]\n",
    "\n",
    "# 7. 输出最终保留的特征\n",
    "print(\"\\n筛选后保留的特征：\")\n",
    "print(all_features_selected.columns.tolist())\n"
   ],
   "id": "62df5bbf0fc807b1"
  },
  {
   "metadata": {},
   "cell_type": "markdown",
   "source": [
    "# 对所有特征标准化（基于训练集的均值和标准差，避免数据泄露）\n",
    "numeric_features = all_features.columns\n",
    "train_features_0 = all_features[:n_train][numeric_features]\n",
    "# 计算训练集的均值和标准差\n",
    "mean = train_features_0.mean()\n",
    "std = train_features_0.std()\n",
    "# 标准化所有特征（训练集和测试集用同一套参数）\n",
    "all_features[numeric_features] = (all_features[numeric_features] - mean) / std\n",
    "\n",
    "# 对所有特征标准化（基于训练集的均值和标准差，避免数据泄露）\n",
    "numeric_features = all_features.columns\n",
    "train_features_0 = all_features[:n_train][numeric_features]\n",
    "# 计算训练集的均值和标准差\n",
    "mean = train_features_0.mean()\n",
    "std = train_features_0.std()\n",
    "# 标准化所有特征（训练集和测试集用同一套参数）\n",
    "all_features[numeric_features] = (all_features[numeric_features] - mean) / std\n",
    "\n"
   ],
   "id": "42e304818fb66d2b"
  },
  {
   "metadata": {},
   "cell_type": "markdown",
   "source": "",
   "id": "5ff1320e47a738fd"
  }
 ],
 "metadata": {
  "kernelspec": {
   "display_name": "Python 3",
   "language": "python",
   "name": "python3"
  },
  "language_info": {
   "codemirror_mode": {
    "name": "ipython",
    "version": 2
   },
   "file_extension": ".py",
   "mimetype": "text/x-python",
   "name": "python",
   "nbconvert_exporter": "python",
   "pygments_lexer": "ipython2",
   "version": "2.7.6"
  }
 },
 "nbformat": 4,
 "nbformat_minor": 5
}
